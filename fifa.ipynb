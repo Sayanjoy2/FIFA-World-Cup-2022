{
 "cells": [
  {
   "cell_type": "markdown",
   "metadata": {},
   "source": [
    "### Import libraries abd Data"
   ]
  },
  {
   "cell_type": "code",
   "execution_count": 1,
   "metadata": {},
   "outputs": [],
   "source": [
    "import pandas as pd\n",
    "from matplotlib import pyplot as plt"
   ]
  },
  {
   "cell_type": "code",
   "execution_count": 2,
   "metadata": {},
   "outputs": [
    {
     "data": {
      "text/html": [
       "<div>\n",
       "<style scoped>\n",
       "    .dataframe tbody tr th:only-of-type {\n",
       "        vertical-align: middle;\n",
       "    }\n",
       "\n",
       "    .dataframe tbody tr th {\n",
       "        vertical-align: top;\n",
       "    }\n",
       "\n",
       "    .dataframe thead th {\n",
       "        text-align: right;\n",
       "    }\n",
       "</style>\n",
       "<table border=\"1\" class=\"dataframe\">\n",
       "  <thead>\n",
       "    <tr style=\"text-align: right;\">\n",
       "      <th></th>\n",
       "      <th>ID</th>\n",
       "      <th>Name</th>\n",
       "      <th>Age</th>\n",
       "      <th>Photo</th>\n",
       "      <th>Nationality</th>\n",
       "      <th>Flag</th>\n",
       "      <th>Overall</th>\n",
       "      <th>Potential</th>\n",
       "      <th>Club</th>\n",
       "      <th>Club Logo</th>\n",
       "      <th>...</th>\n",
       "      <th>Real Face</th>\n",
       "      <th>Position</th>\n",
       "      <th>Joined</th>\n",
       "      <th>Loaned From</th>\n",
       "      <th>Contract Valid Until</th>\n",
       "      <th>Height</th>\n",
       "      <th>Weight</th>\n",
       "      <th>Release Clause</th>\n",
       "      <th>Kit Number</th>\n",
       "      <th>Best Overall Rating</th>\n",
       "    </tr>\n",
       "  </thead>\n",
       "  <tbody>\n",
       "    <tr>\n",
       "      <th>0</th>\n",
       "      <td>209658</td>\n",
       "      <td>L. Goretzka</td>\n",
       "      <td>27</td>\n",
       "      <td>https://cdn.sofifa.net/players/209/658/23_60.png</td>\n",
       "      <td>Germany</td>\n",
       "      <td>https://cdn.sofifa.net/flags/de.png</td>\n",
       "      <td>87</td>\n",
       "      <td>88</td>\n",
       "      <td>FC Bayern München</td>\n",
       "      <td>https://cdn.sofifa.net/teams/21/30.png</td>\n",
       "      <td>...</td>\n",
       "      <td>Yes</td>\n",
       "      <td>&lt;span class=\"pos pos28\"&gt;SUB</td>\n",
       "      <td>Jul 1, 2018</td>\n",
       "      <td>NaN</td>\n",
       "      <td>2026</td>\n",
       "      <td>189cm</td>\n",
       "      <td>82kg</td>\n",
       "      <td>€157M</td>\n",
       "      <td>8.0</td>\n",
       "      <td>NaN</td>\n",
       "    </tr>\n",
       "    <tr>\n",
       "      <th>1</th>\n",
       "      <td>212198</td>\n",
       "      <td>Bruno Fernandes</td>\n",
       "      <td>27</td>\n",
       "      <td>https://cdn.sofifa.net/players/212/198/23_60.png</td>\n",
       "      <td>Portugal</td>\n",
       "      <td>https://cdn.sofifa.net/flags/pt.png</td>\n",
       "      <td>86</td>\n",
       "      <td>87</td>\n",
       "      <td>Manchester United</td>\n",
       "      <td>https://cdn.sofifa.net/teams/11/30.png</td>\n",
       "      <td>...</td>\n",
       "      <td>Yes</td>\n",
       "      <td>&lt;span class=\"pos pos15\"&gt;LCM</td>\n",
       "      <td>Jan 30, 2020</td>\n",
       "      <td>NaN</td>\n",
       "      <td>2026</td>\n",
       "      <td>179cm</td>\n",
       "      <td>69kg</td>\n",
       "      <td>€155M</td>\n",
       "      <td>8.0</td>\n",
       "      <td>NaN</td>\n",
       "    </tr>\n",
       "    <tr>\n",
       "      <th>2</th>\n",
       "      <td>224334</td>\n",
       "      <td>M. Acuña</td>\n",
       "      <td>30</td>\n",
       "      <td>https://cdn.sofifa.net/players/224/334/23_60.png</td>\n",
       "      <td>Argentina</td>\n",
       "      <td>https://cdn.sofifa.net/flags/ar.png</td>\n",
       "      <td>85</td>\n",
       "      <td>85</td>\n",
       "      <td>Sevilla FC</td>\n",
       "      <td>https://cdn.sofifa.net/teams/481/30.png</td>\n",
       "      <td>...</td>\n",
       "      <td>No</td>\n",
       "      <td>&lt;span class=\"pos pos7\"&gt;LB</td>\n",
       "      <td>Sep 14, 2020</td>\n",
       "      <td>NaN</td>\n",
       "      <td>2024</td>\n",
       "      <td>172cm</td>\n",
       "      <td>69kg</td>\n",
       "      <td>€97.7M</td>\n",
       "      <td>19.0</td>\n",
       "      <td>NaN</td>\n",
       "    </tr>\n",
       "    <tr>\n",
       "      <th>3</th>\n",
       "      <td>192985</td>\n",
       "      <td>K. De Bruyne</td>\n",
       "      <td>31</td>\n",
       "      <td>https://cdn.sofifa.net/players/192/985/23_60.png</td>\n",
       "      <td>Belgium</td>\n",
       "      <td>https://cdn.sofifa.net/flags/be.png</td>\n",
       "      <td>91</td>\n",
       "      <td>91</td>\n",
       "      <td>Manchester City</td>\n",
       "      <td>https://cdn.sofifa.net/teams/10/30.png</td>\n",
       "      <td>...</td>\n",
       "      <td>Yes</td>\n",
       "      <td>&lt;span class=\"pos pos13\"&gt;RCM</td>\n",
       "      <td>Aug 30, 2015</td>\n",
       "      <td>NaN</td>\n",
       "      <td>2025</td>\n",
       "      <td>181cm</td>\n",
       "      <td>70kg</td>\n",
       "      <td>€198.9M</td>\n",
       "      <td>17.0</td>\n",
       "      <td>NaN</td>\n",
       "    </tr>\n",
       "    <tr>\n",
       "      <th>4</th>\n",
       "      <td>224232</td>\n",
       "      <td>N. Barella</td>\n",
       "      <td>25</td>\n",
       "      <td>https://cdn.sofifa.net/players/224/232/23_60.png</td>\n",
       "      <td>Italy</td>\n",
       "      <td>https://cdn.sofifa.net/flags/it.png</td>\n",
       "      <td>86</td>\n",
       "      <td>89</td>\n",
       "      <td>Inter</td>\n",
       "      <td>https://cdn.sofifa.net/teams/44/30.png</td>\n",
       "      <td>...</td>\n",
       "      <td>Yes</td>\n",
       "      <td>&lt;span class=\"pos pos13\"&gt;RCM</td>\n",
       "      <td>Sep 1, 2020</td>\n",
       "      <td>NaN</td>\n",
       "      <td>2026</td>\n",
       "      <td>172cm</td>\n",
       "      <td>68kg</td>\n",
       "      <td>€154.4M</td>\n",
       "      <td>23.0</td>\n",
       "      <td>NaN</td>\n",
       "    </tr>\n",
       "  </tbody>\n",
       "</table>\n",
       "<p>5 rows × 29 columns</p>\n",
       "</div>"
      ],
      "text/plain": [
       "       ID             Name  Age  \\\n",
       "0  209658      L. Goretzka   27   \n",
       "1  212198  Bruno Fernandes   27   \n",
       "2  224334         M. Acuña   30   \n",
       "3  192985     K. De Bruyne   31   \n",
       "4  224232       N. Barella   25   \n",
       "\n",
       "                                              Photo Nationality  \\\n",
       "0  https://cdn.sofifa.net/players/209/658/23_60.png     Germany   \n",
       "1  https://cdn.sofifa.net/players/212/198/23_60.png    Portugal   \n",
       "2  https://cdn.sofifa.net/players/224/334/23_60.png   Argentina   \n",
       "3  https://cdn.sofifa.net/players/192/985/23_60.png     Belgium   \n",
       "4  https://cdn.sofifa.net/players/224/232/23_60.png       Italy   \n",
       "\n",
       "                                  Flag  Overall  Potential               Club  \\\n",
       "0  https://cdn.sofifa.net/flags/de.png       87         88  FC Bayern München   \n",
       "1  https://cdn.sofifa.net/flags/pt.png       86         87  Manchester United   \n",
       "2  https://cdn.sofifa.net/flags/ar.png       85         85         Sevilla FC   \n",
       "3  https://cdn.sofifa.net/flags/be.png       91         91    Manchester City   \n",
       "4  https://cdn.sofifa.net/flags/it.png       86         89              Inter   \n",
       "\n",
       "                                 Club Logo  ... Real Face  \\\n",
       "0   https://cdn.sofifa.net/teams/21/30.png  ...       Yes   \n",
       "1   https://cdn.sofifa.net/teams/11/30.png  ...       Yes   \n",
       "2  https://cdn.sofifa.net/teams/481/30.png  ...        No   \n",
       "3   https://cdn.sofifa.net/teams/10/30.png  ...       Yes   \n",
       "4   https://cdn.sofifa.net/teams/44/30.png  ...       Yes   \n",
       "\n",
       "                      Position        Joined Loaned From  \\\n",
       "0  <span class=\"pos pos28\">SUB   Jul 1, 2018         NaN   \n",
       "1  <span class=\"pos pos15\">LCM  Jan 30, 2020         NaN   \n",
       "2    <span class=\"pos pos7\">LB  Sep 14, 2020         NaN   \n",
       "3  <span class=\"pos pos13\">RCM  Aug 30, 2015         NaN   \n",
       "4  <span class=\"pos pos13\">RCM   Sep 1, 2020         NaN   \n",
       "\n",
       "   Contract Valid Until  Height  Weight Release Clause Kit Number  \\\n",
       "0                  2026   189cm    82kg          €157M        8.0   \n",
       "1                  2026   179cm    69kg          €155M        8.0   \n",
       "2                  2024   172cm    69kg         €97.7M       19.0   \n",
       "3                  2025   181cm    70kg        €198.9M       17.0   \n",
       "4                  2026   172cm    68kg        €154.4M       23.0   \n",
       "\n",
       "  Best Overall Rating  \n",
       "0                 NaN  \n",
       "1                 NaN  \n",
       "2                 NaN  \n",
       "3                 NaN  \n",
       "4                 NaN  \n",
       "\n",
       "[5 rows x 29 columns]"
      ]
     },
     "execution_count": 2,
     "metadata": {},
     "output_type": "execute_result"
    }
   ],
   "source": [
    "df = pd.read_csv('FIFA.csv')\n",
    "df.head(5)"
   ]
  },
  {
   "cell_type": "markdown",
   "metadata": {},
   "source": [
    "### Drop unused Columns"
   ]
  },
  {
   "cell_type": "code",
   "execution_count": 3,
   "metadata": {},
   "outputs": [],
   "source": [
    "work_data = df.drop(['Photo','Flag','Club Logo','Club Logo','Real Face','ID','Position','Loaned From'], axis= 1)"
   ]
  },
  {
   "cell_type": "code",
   "execution_count": 4,
   "metadata": {},
   "outputs": [
    {
     "data": {
      "text/html": [
       "<div>\n",
       "<style scoped>\n",
       "    .dataframe tbody tr th:only-of-type {\n",
       "        vertical-align: middle;\n",
       "    }\n",
       "\n",
       "    .dataframe tbody tr th {\n",
       "        vertical-align: top;\n",
       "    }\n",
       "\n",
       "    .dataframe thead th {\n",
       "        text-align: right;\n",
       "    }\n",
       "</style>\n",
       "<table border=\"1\" class=\"dataframe\">\n",
       "  <thead>\n",
       "    <tr style=\"text-align: right;\">\n",
       "      <th></th>\n",
       "      <th>Name</th>\n",
       "      <th>Age</th>\n",
       "      <th>Nationality</th>\n",
       "      <th>Overall</th>\n",
       "      <th>Potential</th>\n",
       "      <th>Club</th>\n",
       "      <th>Value</th>\n",
       "      <th>Wage</th>\n",
       "      <th>Special</th>\n",
       "      <th>Preferred Foot</th>\n",
       "      <th>...</th>\n",
       "      <th>Skill Moves</th>\n",
       "      <th>Work Rate</th>\n",
       "      <th>Body Type</th>\n",
       "      <th>Joined</th>\n",
       "      <th>Contract Valid Until</th>\n",
       "      <th>Height</th>\n",
       "      <th>Weight</th>\n",
       "      <th>Release Clause</th>\n",
       "      <th>Kit Number</th>\n",
       "      <th>Best Overall Rating</th>\n",
       "    </tr>\n",
       "  </thead>\n",
       "  <tbody>\n",
       "    <tr>\n",
       "      <th>0</th>\n",
       "      <td>L. Goretzka</td>\n",
       "      <td>27</td>\n",
       "      <td>Germany</td>\n",
       "      <td>87</td>\n",
       "      <td>88</td>\n",
       "      <td>FC Bayern München</td>\n",
       "      <td>€91M</td>\n",
       "      <td>€115K</td>\n",
       "      <td>2312</td>\n",
       "      <td>Right</td>\n",
       "      <td>...</td>\n",
       "      <td>3.0</td>\n",
       "      <td>High/ Medium</td>\n",
       "      <td>Unique</td>\n",
       "      <td>Jul 1, 2018</td>\n",
       "      <td>2026</td>\n",
       "      <td>189cm</td>\n",
       "      <td>82kg</td>\n",
       "      <td>€157M</td>\n",
       "      <td>8.0</td>\n",
       "      <td>NaN</td>\n",
       "    </tr>\n",
       "    <tr>\n",
       "      <th>1</th>\n",
       "      <td>Bruno Fernandes</td>\n",
       "      <td>27</td>\n",
       "      <td>Portugal</td>\n",
       "      <td>86</td>\n",
       "      <td>87</td>\n",
       "      <td>Manchester United</td>\n",
       "      <td>€78.5M</td>\n",
       "      <td>€190K</td>\n",
       "      <td>2305</td>\n",
       "      <td>Right</td>\n",
       "      <td>...</td>\n",
       "      <td>4.0</td>\n",
       "      <td>High/ High</td>\n",
       "      <td>Unique</td>\n",
       "      <td>Jan 30, 2020</td>\n",
       "      <td>2026</td>\n",
       "      <td>179cm</td>\n",
       "      <td>69kg</td>\n",
       "      <td>€155M</td>\n",
       "      <td>8.0</td>\n",
       "      <td>NaN</td>\n",
       "    </tr>\n",
       "  </tbody>\n",
       "</table>\n",
       "<p>2 rows × 22 columns</p>\n",
       "</div>"
      ],
      "text/plain": [
       "              Name  Age Nationality  Overall  Potential               Club  \\\n",
       "0      L. Goretzka   27     Germany       87         88  FC Bayern München   \n",
       "1  Bruno Fernandes   27    Portugal       86         87  Manchester United   \n",
       "\n",
       "    Value   Wage  Special Preferred Foot  ...  Skill Moves     Work Rate  \\\n",
       "0    €91M  €115K     2312          Right  ...          3.0  High/ Medium   \n",
       "1  €78.5M  €190K     2305          Right  ...          4.0    High/ High   \n",
       "\n",
       "   Body Type        Joined Contract Valid Until Height Weight Release Clause  \\\n",
       "0     Unique   Jul 1, 2018                 2026  189cm   82kg          €157M   \n",
       "1     Unique  Jan 30, 2020                 2026  179cm   69kg          €155M   \n",
       "\n",
       "  Kit Number Best Overall Rating  \n",
       "0        8.0                 NaN  \n",
       "1        8.0                 NaN  \n",
       "\n",
       "[2 rows x 22 columns]"
      ]
     },
     "execution_count": 4,
     "metadata": {},
     "output_type": "execute_result"
    }
   ],
   "source": [
    "work_data.head(2)"
   ]
  },
  {
   "cell_type": "markdown",
   "metadata": {},
   "source": [
    "### Fiend Preferred Foot"
   ]
  },
  {
   "cell_type": "code",
   "execution_count": 5,
   "metadata": {},
   "outputs": [
    {
     "data": {
      "image/png": "[encoded data removed]",
      "text/plain": [
       "<Figure size 432x288 with 1 Axes>"
      ]
     },
     "metadata": {},
     "output_type": "display_data"
    },
    {
     "data": {
      "text/plain": [
       "<Figure size 432x288 with 0 Axes>"
      ]
     },
     "metadata": {},
     "output_type": "display_data"
    }
   ],
   "source": [
    "Right = work_data.loc[work_data['Preferred Foot']== 'Right'].count()[0]\n",
    "Left = work_data.loc[work_data['Preferred Foot']== 'Left'].count()[0]\n",
    "labels = [\"Left\", \"Right\"]\n",
    "colors = ['#34ebc9','#34aeeb']\n",
    "plt.pie([Left,Right], labels= labels, colors= colors, autopct= '%2f%%')\n",
    "plt.title('Preferd Foot')\n",
    "plt.show()\n",
    "plt.savefig('FootBall_Players_preferd_foot.jpg', dpi = 300)"
   ]
  },
  {
   "cell_type": "markdown",
   "metadata": {},
   "source": [
    "### Convert Weight column in to Float"
   ]
  },
  {
   "cell_type": "code",
   "execution_count": 6,
   "metadata": {},
   "outputs": [],
   "source": [
    "work_data.Weight = [x.strip('kg') for x in work_data.Weight]"
   ]
  },
  {
   "cell_type": "code",
   "execution_count": 7,
   "metadata": {},
   "outputs": [],
   "source": [
    "work_data['Weight'] = work_data['Weight'].astype(float)"
   ]
  },
  {
   "cell_type": "code",
   "execution_count": 8,
   "metadata": {},
   "outputs": [
    {
     "data": {
      "text/plain": [
       "0        82.0\n",
       "1        69.0\n",
       "2        69.0\n",
       "3        70.0\n",
       "4        68.0\n",
       "         ... \n",
       "17655    78.0\n",
       "17656    84.0\n",
       "17657    82.0\n",
       "17658    79.0\n",
       "17659    78.0\n",
       "Name: Weight, Length: 17660, dtype: float64"
      ]
     },
     "execution_count": 8,
     "metadata": {},
     "output_type": "execute_result"
    }
   ],
   "source": [
    "work_data.Weight"
   ]
  },
  {
   "cell_type": "markdown",
   "metadata": {},
   "source": [
    "###  Fiend Players Weight Divison "
   ]
  },
  {
   "cell_type": "code",
   "execution_count": 9,
   "metadata": {},
   "outputs": [
    {
     "data": {
      "image/png": "[encoded data removed]",
      "text/plain": [
       "<Figure size 432x288 with 1 Axes>"
      ]
     },
     "metadata": {},
     "output_type": "display_data"
    }
   ],
   "source": [
    "plt.title('Players Weight ')\n",
    "light_players = work_data.loc[work_data.Weight< 60].count()[0]\n",
    "medium_weight_players = work_data.loc[(work_data.Weight>= 60) & (work_data.Weight < 70)].count()[0]\n",
    "heavy_weight_players = work_data.loc[work_data.Weight>= 70].count()[0]\n",
    "pie_2 =[light_players, medium_weight_players, heavy_weight_players]\n",
    "labels = ['light_players', 'medium_weight_players', 'heavy_weight_players']\n",
    "colors = ['#03c2fc', '#0388fc', '#9d03fc']\n",
    "plt.pie(pie_2, labels= labels, colors= colors,autopct= '%2f%%')\n",
    "plt.savefig('Players Weight.jpg', dpi =300)\n",
    "plt.show()\n"
   ]
  },
  {
   "cell_type": "markdown",
   "metadata": {},
   "source": [
    "### Fiend Players Age Group"
   ]
  },
  {
   "cell_type": "code",
   "execution_count": 10,
   "metadata": {},
   "outputs": [
    {
     "data": {
      "image/png": "[encoded data removed]",
      "text/plain": [
       "<Figure size 432x288 with 1 Axes>"
      ]
     },
     "metadata": {},
     "output_type": "display_data"
    }
   ],
   "source": [
    "Junior_players = work_data.loc[work_data.Age >= 20].count()[0]\n",
    "Mid_Age_players = work_data.loc[(work_data.Age >= 30) & (work_data.Age < 40)].count()[0]\n",
    "Senior_players = work_data.loc[work_data.Age >= 40].count()[0]\n",
    "pie_3 =[Junior_players,Mid_Age_players, Senior_players]\n",
    "labels = ['Junior_players','Mid_Age_Age_players', 'Senior_players']\n",
    "colors = ['#32a852','#0388fc', '#9d03fc']\n",
    "plt.title('Players Age')\n",
    "plt.pie(pie_3, labels= labels, colors= colors, autopct= '%2f%%')\n",
    "plt.savefig('Players Age.jpg', dpi = 300)\n",
    "plt.show()"
   ]
  },
  {
   "cell_type": "code",
   "execution_count": 16,
   "metadata": {},
   "outputs": [
    {
     "data": {
      "text/html": [
       "<div>\n",
       "<style scoped>\n",
       "    .dataframe tbody tr th:only-of-type {\n",
       "        vertical-align: middle;\n",
       "    }\n",
       "\n",
       "    .dataframe tbody tr th {\n",
       "        vertical-align: top;\n",
       "    }\n",
       "\n",
       "    .dataframe thead th {\n",
       "        text-align: right;\n",
       "    }\n",
       "</style>\n",
       "<table border=\"1\" class=\"dataframe\">\n",
       "  <thead>\n",
       "    <tr style=\"text-align: right;\">\n",
       "      <th></th>\n",
       "      <th>Name</th>\n",
       "      <th>Age</th>\n",
       "      <th>Nationality</th>\n",
       "      <th>Overall</th>\n",
       "      <th>Potential</th>\n",
       "      <th>Club</th>\n",
       "      <th>Value</th>\n",
       "      <th>Wage</th>\n",
       "      <th>Special</th>\n",
       "      <th>Preferred Foot</th>\n",
       "      <th>...</th>\n",
       "      <th>Skill Moves</th>\n",
       "      <th>Work Rate</th>\n",
       "      <th>Body Type</th>\n",
       "      <th>Joined</th>\n",
       "      <th>Contract Valid Until</th>\n",
       "      <th>Height</th>\n",
       "      <th>Weight</th>\n",
       "      <th>Release Clause</th>\n",
       "      <th>Kit Number</th>\n",
       "      <th>Best Overall Rating</th>\n",
       "    </tr>\n",
       "  </thead>\n",
       "  <tbody>\n",
       "    <tr>\n",
       "      <th>0</th>\n",
       "      <td>L. Goretzka</td>\n",
       "      <td>27</td>\n",
       "      <td>Germany</td>\n",
       "      <td>87</td>\n",
       "      <td>88</td>\n",
       "      <td>FC Bayern München</td>\n",
       "      <td>€91M</td>\n",
       "      <td>€115K</td>\n",
       "      <td>2312</td>\n",
       "      <td>Right</td>\n",
       "      <td>...</td>\n",
       "      <td>3.0</td>\n",
       "      <td>High/ Medium</td>\n",
       "      <td>Unique</td>\n",
       "      <td>Jul 1, 2018</td>\n",
       "      <td>2026</td>\n",
       "      <td>189cm</td>\n",
       "      <td>82.0</td>\n",
       "      <td>€157M</td>\n",
       "      <td>8.0</td>\n",
       "      <td>NaN</td>\n",
       "    </tr>\n",
       "    <tr>\n",
       "      <th>1</th>\n",
       "      <td>Bruno Fernandes</td>\n",
       "      <td>27</td>\n",
       "      <td>Portugal</td>\n",
       "      <td>86</td>\n",
       "      <td>87</td>\n",
       "      <td>Manchester United</td>\n",
       "      <td>€78.5M</td>\n",
       "      <td>€190K</td>\n",
       "      <td>2305</td>\n",
       "      <td>Right</td>\n",
       "      <td>...</td>\n",
       "      <td>4.0</td>\n",
       "      <td>High/ High</td>\n",
       "      <td>Unique</td>\n",
       "      <td>Jan 30, 2020</td>\n",
       "      <td>2026</td>\n",
       "      <td>179cm</td>\n",
       "      <td>69.0</td>\n",
       "      <td>€155M</td>\n",
       "      <td>8.0</td>\n",
       "      <td>NaN</td>\n",
       "    </tr>\n",
       "  </tbody>\n",
       "</table>\n",
       "<p>2 rows × 22 columns</p>\n",
       "</div>"
      ],
      "text/plain": [
       "              Name  Age Nationality  Overall  Potential               Club  \\\n",
       "0      L. Goretzka   27     Germany       87         88  FC Bayern München   \n",
       "1  Bruno Fernandes   27    Portugal       86         87  Manchester United   \n",
       "\n",
       "    Value   Wage  Special Preferred Foot  ...  Skill Moves     Work Rate  \\\n",
       "0    €91M  €115K     2312          Right  ...          3.0  High/ Medium   \n",
       "1  €78.5M  €190K     2305          Right  ...          4.0    High/ High   \n",
       "\n",
       "   Body Type        Joined Contract Valid Until Height Weight Release Clause  \\\n",
       "0     Unique   Jul 1, 2018                 2026  189cm   82.0          €157M   \n",
       "1     Unique  Jan 30, 2020                 2026  179cm   69.0          €155M   \n",
       "\n",
       "   Kit Number Best Overall Rating  \n",
       "0         8.0                 NaN  \n",
       "1         8.0                 NaN  \n",
       "\n",
       "[2 rows x 22 columns]"
      ]
     },
     "execution_count": 16,
     "metadata": {},
     "output_type": "execute_result"
    }
   ],
   "source": [
    "work_data.head(2)"
   ]
  },
  {
   "cell_type": "markdown",
   "metadata": {},
   "source": [
    "### Compare 4 Favorite Team in FIFA 2022"
   ]
  },
  {
   "cell_type": "code",
   "execution_count": 45,
   "metadata": {},
   "outputs": [
    {
     "data": {
      "image/png": "[encoded data removed]",
      "text/plain": [
       "<Figure size 640x480 with 1 Axes>"
      ]
     },
     "metadata": {},
     "output_type": "display_data"
    },
    {
     "data": {
      "text/plain": [
       "<Figure size 800x800 with 0 Axes>"
      ]
     },
     "metadata": {},
     "output_type": "display_data"
    },
    {
     "data": {
      "text/plain": [
       "<Figure size 640x480 with 0 Axes>"
      ]
     },
     "metadata": {},
     "output_type": "display_data"
    }
   ],
   "source": [
    "Germany = work_data.loc[work_data.Nationality == 'Germany']['Overall']\n",
    "Portugal = work_data.loc[work_data.Nationality == 'Portugal']['Overall']\n",
    "Brazil = work_data.loc[work_data.Nationality == 'Brazil']['Overall']\n",
    "Argentina = work_data.loc[work_data.Nationality == 'Argentina']['Overall']\n",
    "box =[Germany,Portugal,Brazil,Argentina]\n",
    "plt.boxplot(box, labels = labels)\n",
    "labels = ['Germany','Portugal','Brazil','Argentina']\n",
    "plt.title('Professional FootBall Team Comparison')\n",
    "plt.ylabel('FIFA Ovarall Rating')\n",
    "plt.figure(figsize=(8,8))\n",
    "plt.style.use('default')\n",
    "plt.show()\n",
    "plt.savefig('Box.jpg', dpi = 400)"
   ]
  },
  {
   "cell_type": "code",
   "execution_count": 11,
   "metadata": {},
   "outputs": [
    {
     "data": {
      "text/plain": [
       "Index(['Name', 'Age', 'Nationality', 'Overall', 'Potential', 'Club', 'Value',\n",
       "       'Wage', 'Special', 'Preferred Foot', 'International Reputation',\n",
       "       'Weak Foot', 'Skill Moves', 'Work Rate', 'Body Type', 'Joined',\n",
       "       'Contract Valid Until', 'Height', 'Weight', 'Release Clause',\n",
       "       'Kit Number', 'Best Overall Rating'],\n",
       "      dtype='object')"
      ]
     },
     "execution_count": 11,
     "metadata": {},
     "output_type": "execute_result"
    }
   ],
   "source": [
    "work_data.columns"
   ]
  },
  {
   "cell_type": "code",
   "execution_count": 12,
   "metadata": {},
   "outputs": [],
   "source": [
    "Dashbord = work_data[['Name', 'Age', 'Nationality', 'Overall','Club', 'Value','Wage','Preferred Foot','International Reputation','Work Rate','Height', 'Weight']]"
   ]
  },
  {
   "cell_type": "code",
   "execution_count": 13,
   "metadata": {},
   "outputs": [
    {
     "data": {
      "text/html": [
       "<div>\n",
       "<style scoped>\n",
       "    .dataframe tbody tr th:only-of-type {\n",
       "        vertical-align: middle;\n",
       "    }\n",
       "\n",
       "    .dataframe tbody tr th {\n",
       "        vertical-align: top;\n",
       "    }\n",
       "\n",
       "    .dataframe thead th {\n",
       "        text-align: right;\n",
       "    }\n",
       "</style>\n",
       "<table border=\"1\" class=\"dataframe\">\n",
       "  <thead>\n",
       "    <tr style=\"text-align: right;\">\n",
       "      <th></th>\n",
       "      <th>Name</th>\n",
       "      <th>Age</th>\n",
       "      <th>Nationality</th>\n",
       "      <th>Overall</th>\n",
       "      <th>Club</th>\n",
       "      <th>Value</th>\n",
       "      <th>Wage</th>\n",
       "      <th>Preferred Foot</th>\n",
       "      <th>International Reputation</th>\n",
       "      <th>Work Rate</th>\n",
       "      <th>Height</th>\n",
       "      <th>Weight</th>\n",
       "    </tr>\n",
       "  </thead>\n",
       "  <tbody>\n",
       "    <tr>\n",
       "      <th>0</th>\n",
       "      <td>L. Goretzka</td>\n",
       "      <td>27</td>\n",
       "      <td>Germany</td>\n",
       "      <td>87</td>\n",
       "      <td>FC Bayern München</td>\n",
       "      <td>€91M</td>\n",
       "      <td>€115K</td>\n",
       "      <td>Right</td>\n",
       "      <td>4.0</td>\n",
       "      <td>High/ Medium</td>\n",
       "      <td>189cm</td>\n",
       "      <td>82.0</td>\n",
       "    </tr>\n",
       "    <tr>\n",
       "      <th>1</th>\n",
       "      <td>Bruno Fernandes</td>\n",
       "      <td>27</td>\n",
       "      <td>Portugal</td>\n",
       "      <td>86</td>\n",
       "      <td>Manchester United</td>\n",
       "      <td>€78.5M</td>\n",
       "      <td>€190K</td>\n",
       "      <td>Right</td>\n",
       "      <td>3.0</td>\n",
       "      <td>High/ High</td>\n",
       "      <td>179cm</td>\n",
       "      <td>69.0</td>\n",
       "    </tr>\n",
       "  </tbody>\n",
       "</table>\n",
       "</div>"
      ],
      "text/plain": [
       "              Name  Age Nationality  Overall               Club   Value  \\\n",
       "0      L. Goretzka   27     Germany       87  FC Bayern München    €91M   \n",
       "1  Bruno Fernandes   27    Portugal       86  Manchester United  €78.5M   \n",
       "\n",
       "    Wage Preferred Foot  International Reputation     Work Rate Height  Weight  \n",
       "0  €115K          Right                       4.0  High/ Medium  189cm    82.0  \n",
       "1  €190K          Right                       3.0    High/ High  179cm    69.0  "
      ]
     },
     "execution_count": 13,
     "metadata": {},
     "output_type": "execute_result"
    }
   ],
   "source": [
    "Dashbord.head(2)"
   ]
  },
  {
   "cell_type": "code",
   "execution_count": 14,
   "metadata": {},
   "outputs": [],
   "source": [
    "#Dashbord.to_csv('FIFA_2022.csv')"
   ]
  },
  {
   "cell_type": "code",
   "execution_count": null,
   "metadata": {},
   "outputs": [],
   "source": []
  },
  {
   "cell_type": "code",
   "execution_count": null,
   "metadata": {},
   "outputs": [],
   "source": []
  }
 ],
 "metadata": {
  "kernelspec": {
   "display_name": "Python 3",
   "language": "python",
   "name": "python3"
  },
  "language_info": {
   "codemirror_mode": {
    "name": "ipython",
    "version": 3
   },
   "file_extension": ".py",
   "mimetype": "text/x-python",
   "name": "python",
   "nbconvert_exporter": "python",
   "pygments_lexer": "ipython3",
   "version": "3.10.5"
  },
  "orig_nbformat": 4,
  "vscode": {
   "interpreter": {
    "hash": "30161dd4e2a5a400700bdfdeb3455c64cecd358d5deed67ae75ea933f6812931"
   }
  }
 },
 "nbformat": 4,
 "nbformat_minor": 2
}
